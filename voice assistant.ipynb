{
 "cells": [
  {
   "cell_type": "code",
   "execution_count": 1,
   "metadata": {},
   "outputs": [
    {
     "name": "stdout",
     "output_type": "stream",
     "text": [
      "Assistant: Hello! How can I help you?\n",
      "Listening for 30 seconds...\n",
      "Thinking...\n",
      "Assistant: Suleman Pervez, an AI Scientist, created this application.\n",
      "Listening for 30 seconds...\n",
      "Thinking...\n"
     ]
    }
   ],
   "source": [
    "import speech_recognition as sr\n",
    "import pyttsx3\n",
    "import wolframalpha\n",
    "\n",
    "def listen():\n",
    "    r = sr.Recognizer()\n",
    "    with sr.Microphone() as source:\n",
    "        print(\"Listening for 30 seconds...\")\n",
    "        try:\n",
    "            audio = r.listen(source, timeout=30)\n",
    "            print(\"Thinking...\")\n",
    "            query = r.recognize_google(audio)\n",
    "            return query\n",
    "        except sr.UnknownValueError:\n",
    "            return \"Sorry, I couldn't understand.\"\n",
    "        except sr.RequestError:\n",
    "            return \"I'm having trouble accessing the Google API.\"\n",
    "        except sr.WaitTimeoutError:\n",
    "            return \"No speech detected within the 30 seconds.\"\n",
    "\n",
    "def respond(response_text):\n",
    "    print(\"Assistant:\", response_text)\n",
    "    engine = pyttsx3.init()\n",
    "    engine.say(response_text)\n",
    "    engine.runAndWait()\n",
    "\n",
    "def process_query(query):\n",
    "    if query.lower() == \"what is your name\":\n",
    "        return \"My name is Jarvis, an AI computations and conversational program.\"\n",
    "    elif query.lower() == \"who created this application\":\n",
    "        return \"Suleman Pervez, an AI Scientist, created this application.\"\n",
    "    else:\n",
    "        # Use Wolfram Alpha API for other queries\n",
    "        app_id = \"Q9PQTA-62PRJLKAVT\"\n",
    "        client = wolframalpha.Client(app_id)\n",
    "        try:\n",
    "            res = client.query(query)\n",
    "            answer = next(res.results).text\n",
    "            return answer\n",
    "        except Exception as e:\n",
    "            return \"I'm not sure. Could you ask something else?\"\n",
    "\n",
    "def assistant():\n",
    "    respond(\"Hello! How can I help you?\")\n",
    "    while True:\n",
    "        user_input = listen().lower()\n",
    "        if \"exit\" in user_input:\n",
    "            respond(\"Goodbye!\")\n",
    "            break\n",
    "        else:\n",
    "            response = process_query(user_input)\n",
    "            if response != \"I'm not sure. Could you ask something else?\":\n",
    "                respond(response)\n",
    "\n",
    "assistant()\n"
   ]
  },
  {
   "cell_type": "code",
   "execution_count": null,
   "metadata": {},
   "outputs": [],
   "source": []
  }
 ],
 "metadata": {
  "kernelspec": {
   "display_name": "base",
   "language": "python",
   "name": "python3"
  },
  "language_info": {
   "codemirror_mode": {
    "name": "ipython",
    "version": 3
   },
   "file_extension": ".py",
   "mimetype": "text/x-python",
   "name": "python",
   "nbconvert_exporter": "python",
   "pygments_lexer": "ipython3",
   "version": "3.12.0"
  }
 },
 "nbformat": 4,
 "nbformat_minor": 2
}
